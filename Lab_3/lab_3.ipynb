{
 "cells": [
  {
   "cell_type": "markdown",
   "metadata": {},
   "source": [
    "# Лабораторная работа №3 - Store Sales - Time Series Forecasting"
   ]
  },
  {
   "cell_type": "code",
   "execution_count": 1,
   "metadata": {},
   "outputs": [
    {
     "name": "stderr",
     "output_type": "stream",
     "text": [
      "Intel(R) Extension for Scikit-learn* enabled (https://github.com/intel/scikit-learn-intelex)\n"
     ]
    }
   ],
   "source": [
    "from sklearnex import patch_sklearn\n",
    "import warnings\n",
    "warnings.filterwarnings(\"ignore\")\n",
    "\n",
    "patch_sklearn()"
   ]
  },
  {
   "cell_type": "markdown",
   "metadata": {},
   "source": [
    "### Препроцессинг, функции для загрузки данных"
   ]
  },
  {
   "cell_type": "code",
   "execution_count": 2,
   "metadata": {},
   "outputs": [],
   "source": [
    "import pandas as pd\n",
    "import numpy as np\n",
    "\n",
    "input_path = \"../input/store-sales-time-series-forecasting\"\n",
    "\n",
    "# store_nbr, city, state, type, cluster\n",
    "stores = pd.read_csv(f\"{input_path}/stores.csv\")\n",
    "# date, dcoilwtico\n",
    "oil = pd.read_csv(f\"{input_path}/oil.csv\")\n",
    "# date, store_nbr, transactions\n",
    "transactions = pd.read_csv(f\"{input_path}/transactions.csv\")\n",
    "# date, type, locale, locale_name, description, transferred\n",
    "holidays_events = pd.read_csv(f\"{input_path}/holidays_events.csv\")\n"
   ]
  },
  {
   "cell_type": "code",
   "execution_count": 3,
   "metadata": {},
   "outputs": [],
   "source": [
    "from sklearn.model_selection import GridSearchCV\n",
    "from sklearn.preprocessing import LabelEncoder\n",
    "\n",
    "RANDOM_STATE = 1234567890\n",
    "\n",
    "def encode(data, array: list[str]):\n",
    "    for column in array:\n",
    "        le = LabelEncoder()\n",
    "        le.fit(data[column])\n",
    "        encoded_title = le.transform(data[column])\n",
    "        data[column] = encoded_title\n",
    "\n",
    "def get_data(path: str):\n",
    "    # ValueError: Found input variables with inconsistent numbers of samples: [3054348, 3000888]\n",
    "    data = pd.read_csv(f\"{input_path}/{path}.csv\")\n",
    "\n",
    "    # if there is sales column, drop it\n",
    "    if \"sales\" in data.columns:\n",
    "        data = data.drop(columns=[\"sales\"])\n",
    "\n",
    "    store_nbr_column = data[\"store_nbr\"]\n",
    "    store_column = stores[\"store_nbr\"].searchsorted(store_nbr_column)\n",
    "    data[\"store_city\"] = stores[\"city\"][store_column].values\n",
    "    data[\"store_state\"] = stores[\"state\"][store_column].values\n",
    "    data[\"store_type\"] = stores[\"type\"][store_column].values\n",
    "    data[\"store_cluster\"] = stores[\"cluster\"][store_column].values\n",
    "\n",
    "    # date\n",
    "    dates_column = data[\"date\"]\n",
    "    data[\"oil_price_at_date\"] = np.nan\n",
    "    for i in range(len(dates_column)):\n",
    "        date = dates_column[i]\n",
    "        oil_date = oil[\"date\"].searchsorted(date)\n",
    "        if oil_date == len(oil):\n",
    "            oil_date -= 1\n",
    "        data.at[i, \"oil_price_at_date\"] = oil[\"dcoilwtico\"][oil_date]\n",
    "\n",
    "    data[\"oil_price_at_date\"] = data[\"oil_price_at_date\"].fillna(data[\"oil_price_at_date\"].median())\n",
    "\n",
    "    data[\"date\"] = pd.to_datetime(data[\"date\"])\n",
    "    data[\"year\"] = data[\"date\"].dt.year\n",
    "    data[\"month\"] = data[\"date\"].dt.month\n",
    "    data[\"day\"] = data[\"date\"].dt.day\n",
    "    data[\"dayofweek\"] = data[\"date\"].dt.dayofweek\n",
    "    data[\"dayofyear\"] = data[\"date\"].dt.dayofyear   \n",
    "    data[\"weekofyear\"] = data[\"date\"].dt.isocalendar().week\n",
    "    data[\"quarter\"] = data[\"date\"].dt.quarter\n",
    "\n",
    "    data = data.drop(columns=[\"id\", \"date\"])\n",
    "    # Unnamed: 0 \n",
    "    # drop unnamed column\n",
    "    if \"Unnamed: 0\" in data.columns:\n",
    "        data = data.drop(columns=[\"Unnamed: 0\"])\n",
    "\n",
    "    encode(data, [\"store_city\", \"store_state\", \"store_type\", \"store_cluster\", \"family\"])\n",
    "    \n",
    "    return data\n",
    "\n",
    "def grid_search(model, params, X, y):\n",
    "    grid_search = GridSearchCV(\n",
    "        model,\n",
    "        params,\n",
    "        refit=True,\n",
    "        cv=5,\n",
    "        verbose=1,\n",
    "        n_jobs=-1,\n",
    "        return_train_score=True,\n",
    "    )\n",
    "    grid_search.fit(X, y)\n",
    "\n",
    "    print(f\"\\n\\033[92mModel:\\033[0m {model.__class__.__name__}\")\n",
    "    print(f\"\\033[92mBest params:\\033[0m {grid_search.best_params_}\")\n",
    "    print(f\"\\033[92mTrain score:\\033[0m {grid_search.cv_results_['mean_train_score'][grid_search.best_index_] * 100:.2f}\")\n",
    "    print(f\"\\033[92mBest score:\\033[0m {grid_search.best_score_ * 100:.2f}\\n\")\n",
    "\n",
    "    return grid_search.best_estimator_, grid_search.best_score_\n",
    "\n",
    "def create_submission(model, name):\n",
    "    test_data = pd.read_csv(f\"{input_path}/test.csv\")\n",
    "    ids = test_data[\"id\"]\n",
    "    test_data = get_data(\"test\")\n",
    "\n",
    "    predictions = model.predict(test_data)\n",
    "    \n",
    "    submission = pd.DataFrame({\"id\": ids, \"sales\": predictions})\n",
    "\n",
    "    submission.to_csv(f\"{name}.csv\", index=False)"
   ]
  },
  {
   "cell_type": "markdown",
   "metadata": {},
   "source": [
    "### Загрузка данных"
   ]
  },
  {
   "cell_type": "code",
   "execution_count": 9,
   "metadata": {},
   "outputs": [
    {
     "name": "stdout",
     "output_type": "stream",
     "text": [
      "   store_nbr  family  onpromotion  store_city  store_state  store_type  \\\n",
      "0          1       0            0          18           12           3   \n",
      "1          1       1            0          18           12           3   \n",
      "2          1       2            0          18           12           3   \n",
      "3          1       3            0          18           12           3   \n",
      "4          1       4            0          18           12           3   \n",
      "\n",
      "   store_cluster  oil_price_at_date  year  month  day  dayofweek  dayofyear  \\\n",
      "0             12              93.14  2013      1    1          1          1   \n",
      "1             12              93.14  2013      1    1          1          1   \n",
      "2             12              93.14  2013      1    1          1          1   \n",
      "3             12              93.14  2013      1    1          1          1   \n",
      "4             12              93.14  2013      1    1          1          1   \n",
      "\n",
      "   weekofyear  quarter  \n",
      "0           1        1  \n",
      "1           1        1  \n",
      "2           1        1  \n",
      "3           1        1  \n",
      "4           1        1  \n",
      "0    0.0\n",
      "1    0.0\n",
      "2    0.0\n",
      "3    0.0\n",
      "4    0.0\n",
      "Name: sales, dtype: float64\n"
     ]
    }
   ],
   "source": [
    "train_data = pd.read_csv(f\"{input_path}/train.csv\")\n",
    "train_labels = train_data[\"sales\"]\n",
    "train_data = get_data(\"train\")\n",
    "\n",
    "print(train_data.head())\n",
    "print(train_labels.head())"
   ]
  },
  {
   "cell_type": "markdown",
   "metadata": {},
   "source": [
    "### Анализ данных"
   ]
  },
  {
   "cell_type": "code",
   "execution_count": 13,
   "metadata": {},
   "outputs": [
    {
     "data": {
      "image/png": "[encoded data removed]",
      "text/plain": [
       "<Figure size 640x480 with 2 Axes>"
      ]
     },
     "metadata": {},
     "output_type": "display_data"
    },
    {
     "name": "stdout",
     "output_type": "stream",
     "text": [
      "store_nbr - 0.02\n",
      "family - -0.13\n",
      "onpromotion - nan\n",
      "store_city - 0.04\n",
      "store_state - 0.06\n",
      "store_type - -0.09\n",
      "store_cluster - 0.04\n",
      "oil_price_at_date - -0.04\n",
      "year - nan\n",
      "month - nan\n",
      "day - 0.13\n",
      "dayofweek - 0.13\n",
      "dayofyear - 0.13\n",
      "weekofyear - nan\n",
      "quarter - nan\n"
     ]
    }
   ],
   "source": [
    "import seaborn as sns\n",
    "import matplotlib.pyplot as plt\n",
    "from scipy.stats import pearsonr\n",
    "\n",
    "corr = train_data.corr()\n",
    "ax1 = sns.heatmap(corr, linewidths=0, square=True)\n",
    "plt.show()\n",
    "\n",
    "for column in train_data.columns:\n",
    "    corr, _ = pearsonr(train_data[column], train_labels)\n",
    "    print(f\"{column} - {corr:.2f}\")"
   ]
  },
  {
   "cell_type": "markdown",
   "metadata": {},
   "source": [
    "### GradientBoostingRegressor"
   ]
  },
  {
   "cell_type": "code",
   "execution_count": 14,
   "metadata": {},
   "outputs": [],
   "source": [
    "from sklearn.ensemble import GradientBoostingRegressor as GBR\n",
    "\n",
    "def model_gbr():\n",
    "    param_grid = {\n",
    "        # \"n_estimators\": [100, 250, 300, 350, 400, 450, 500, 1000, 2000],\n",
    "        # \"max_depth\": [3, 4, 5, 6, 7],\n",
    "        # \"min_samples_split\": [2, 3, 4, 5],\n",
    "        # \"min_samples_leaf\": [1, 2, 3, 4, 5],\n",
    "        # \"learning_rate\": [0.01, 0.05, 0.1, 0.2, 0.3, 0.4, 0.5, 0.6, 0.7, 1],\n",
    "    }\n",
    "    \n",
    "    return grid_search(\n",
    "        GBR(\n",
    "            random_state=RANDOM_STATE, \n",
    "            # n_estimators=300, \n",
    "            # max_depth=4, \n",
    "            # min_samples_split=4,\n",
    "            # min_samples_leaf=2,\n",
    "            # learning_rate=0.1,\n",
    "        ),\n",
    "        param_grid,\n",
    "        train_data,\n",
    "        train_labels,\n",
    "    )"
   ]
  },
  {
   "cell_type": "markdown",
   "metadata": {},
   "source": [
    "### Подбор гиперпараметров и создание сабмишеннов"
   ]
  },
  {
   "cell_type": "code",
   "execution_count": 15,
   "metadata": {},
   "outputs": [
    {
     "name": "stdout",
     "output_type": "stream",
     "text": [
      "Fitting 5 folds for each of 1 candidates, totalling 5 fits\n",
      "\n",
      "\u001b[92mModel:\u001b[0m GradientBoostingRegressor\n",
      "\u001b[92mBest params:\u001b[0m {}\n",
      "\u001b[92mTrain score:\u001b[0m 70.92\n",
      "\u001b[92mBest score:\u001b[0m -201.41\n",
      "\n"
     ]
    }
   ],
   "source": [
    "submissions_folder = \"submissions\"\n",
    "\n",
    "items = list(globals().items())\n",
    "\n",
    "for name, func in items:\n",
    "    if callable(func) and name.startswith(\"model_\"):\n",
    "        model, score = func()\n",
    "        create_submission(\n",
    "            model, f\"{submissions_folder}/{1-score:.4f}_{model.__class__.__name__}\"\n",
    "        )"
   ]
  },
  {
   "cell_type": "markdown",
   "metadata": {},
   "source": [
    "### Вычисление SMSE"
   ]
  },
  {
   "cell_type": "code",
   "execution_count": 16,
   "metadata": {},
   "outputs": [],
   "source": [
    "from sklearn.metrics import mean_squared_error\n",
    "\n",
    "def rmse(y_true, y_pred):\n",
    "    return np.sqrt(mean_squared_error(y_true, y_pred))\n",
    "\n",
    "def rmse_score(model, X, y):\n",
    "    return rmse(y, model.predict(X))"
   ]
  },
  {
   "cell_type": "markdown",
   "metadata": {},
   "source": [
    "### Сравниваем с ~100% результатом"
   ]
  },
  {
   "cell_type": "code",
   "execution_count": 25,
   "metadata": {},
   "outputs": [
    {
     "name": "stdout",
     "output_type": "stream",
     "text": [
      "GradientBoostingRegressor: 7.3052\n"
     ]
    }
   ],
   "source": [
    "import os\n",
    "\n",
    "submission_100 = pd.read_csv(f\"{input_path}/100_score.csv\")\n",
    "\n",
    "for submission_fn in os.listdir(submissions_folder):\n",
    "    if submission_fn.endswith(\".csv\"):\n",
    "        submission = pd.read_csv(f\"{submissions_folder}/{submission_fn}\")\n",
    "\n",
    "        accuracy = rmse(submission_100[\"sales\"], submission[\"sales\"])\n",
    "\n",
    "        model_name = submission_fn.split('_')[-1].split('.')[0]\n",
    "        old_accuracy = submission_fn.split('_')[0]\n",
    "        accuracy = f\"{accuracy:.4f}\"\n",
    "\n",
    "        if os.path.exists(f\"{submissions_folder}/{accuracy}_{model_name}.csv\"):\n",
    "            print(f\"{submission_fn} > {accuracy}_{model_name}.csv ALREADY EXISTS, REMOVE THIS BASTARD!!!!!!!!!!!\")\n",
    "            continue\n",
    "\n",
    "        print(f\"{model_name}: {accuracy}\")\n",
    "        os.rename(f\"{submissions_folder}/{submission_fn}\", f\"{submissions_folder}/{accuracy}_{model_name}.csv\")"
   ]
  }
 ],
 "metadata": {
  "kernelspec": {
   "display_name": "Python 3",
   "language": "python",
   "name": "python3"
  },
  "language_info": {
   "codemirror_mode": {
    "name": "ipython",
    "version": 3
   },
   "file_extension": ".py",
   "mimetype": "text/x-python",
   "name": "python",
   "nbconvert_exporter": "python",
   "pygments_lexer": "ipython3",
   "version": "3.10.13"
  }
 },
 "nbformat": 4,
 "nbformat_minor": 2
}
