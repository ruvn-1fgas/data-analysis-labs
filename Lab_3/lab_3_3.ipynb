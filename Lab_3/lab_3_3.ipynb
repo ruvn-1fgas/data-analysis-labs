{
 "cells": [
  {
   "cell_type": "markdown",
   "id": "7c439c55",
   "metadata": {
    "papermill": {
     "duration": 0.006939,
     "end_time": "2023-10-18T07:35:23.518288",
     "exception": false,
     "start_time": "2023-10-18T07:35:23.511349",
     "status": "completed"
    },
    "tags": []
   },
   "source": [
    "# Лабораторная работа №3 - Store Sales - Time Series Forecasting"
   ]
  },
  {
   "cell_type": "code",
   "execution_count": 53,
   "id": "19d34269",
   "metadata": {
    "execution": {
     "iopub.execute_input": "2023-10-18T07:35:44.802510Z",
     "iopub.status.busy": "2023-10-18T07:35:44.802138Z",
     "iopub.status.idle": "2023-10-18T07:35:46.996318Z",
     "shell.execute_reply": "2023-10-18T07:35:46.995317Z"
    },
    "papermill": {
     "duration": 2.207987,
     "end_time": "2023-10-18T07:35:46.998595",
     "exception": false,
     "start_time": "2023-10-18T07:35:44.790608",
     "status": "completed"
    },
    "tags": []
   },
   "outputs": [
    {
     "name": "stdout",
     "output_type": "stream",
     "text": [
      "../input/store-sales-time-series-forecasting\\100_score.csv\n",
      "../input/store-sales-time-series-forecasting\\holidays_events.csv\n",
      "../input/store-sales-time-series-forecasting\\oil.csv\n",
      "../input/store-sales-time-series-forecasting\\sample_submission.csv\n",
      "../input/store-sales-time-series-forecasting\\stores.csv\n",
      "../input/store-sales-time-series-forecasting\\test.csv\n",
      "../input/store-sales-time-series-forecasting\\train_1.csv\n",
      "../input/store-sales-time-series-forecasting\\train_2.csv\n",
      "../input/store-sales-time-series-forecasting\\transactions.csv\n"
     ]
    }
   ],
   "source": [
    "RANDOM_STATE = 1337\n",
    "\n",
    "import numpy as np\n",
    "import pandas as pd\n",
    "\n",
    "input_path = \"../input/store-sales-time-series-forecasting\"\n",
    "\n",
    "import os\n",
    "for dirname, _, filenames in os.walk(input_path):\n",
    "    for filename in filenames:\n",
    "        print(os.path.join(dirname, filename))"
   ]
  },
  {
   "cell_type": "markdown",
   "id": "e226814e",
   "metadata": {},
   "source": [
    "### Загрузка данных"
   ]
  },
  {
   "cell_type": "code",
   "execution_count": null,
   "id": "419633d3",
   "metadata": {
    "execution": {
     "iopub.execute_input": "2023-10-18T07:35:47.019940Z",
     "iopub.status.busy": "2023-10-18T07:35:47.019416Z",
     "iopub.status.idle": "2023-10-18T07:35:50.824151Z",
     "shell.execute_reply": "2023-10-18T07:35:50.822900Z"
    },
    "papermill": {
     "duration": 3.818067,
     "end_time": "2023-10-18T07:35:50.826514",
     "exception": false,
     "start_time": "2023-10-18T07:35:47.008447",
     "status": "completed"
    },
    "tags": []
   },
   "outputs": [],
   "source": [
    "# 100 mb per file - cringe\n",
    "train_1_part = pd.read_csv(f\"{input_path}/train_1.csv\", parse_dates=['date'])\n",
    "train_2_part = pd.read_csv(f\"{input_path}/train_2.csv\", parse_dates=['date'])\n",
    "train_data = pd.concat([train_1_part, train_2_part])\n",
    "\n",
    "test_data = pd.read_csv(f\"{input_path}/test.csv\", parse_dates=['date'])\n",
    "oil = pd.read_csv(f\"{input_path}/oil.csv\", parse_dates=['date'])\n",
    "holiday_events = pd.read_csv(f\"{input_path}/holidays_events.csv\", parse_dates=['date'])\n",
    "stores = pd.read_csv(f\"{input_path}/stores.csv\")\n",
    "transcations = pd.read_csv(f\"{input_path}/transactions.csv\", parse_dates=['date'])\n",
    "\n",
    "train_data.head()"
   ]
  },
  {
   "cell_type": "markdown",
   "id": "dcc4f18a",
   "metadata": {},
   "source": [
    "### Плоттим данные\n",
    "\n",
    "Микроанализ:\\\n",
    "Объем продаж имеет возрастающий тренд и явную сезонность (праздники, особенно новый год) \n",
    "Количество транзакций, в целом, постоянно, но СИЛЬНО возрастает в период праздников, особенно перед новым годом"
   ]
  },
  {
   "cell_type": "code",
   "execution_count": null,
   "id": "6705fded",
   "metadata": {},
   "outputs": [],
   "source": [
    "import matplotlib.pyplot as plt\n",
    "import seaborn as sns\n",
    "\n",
    "sns.set_theme(style=\"whitegrid\")\n",
    "plt.figure(figsize=(12, 6))\n",
    "sns.lineplot(x=\"date\", y=\"sales\", data=train_data, label=\"sales\")\n",
    "sns.lineplot(x=\"date\", y=\"transactions\", data=transcations, label=\"transactions\")\n",
    "plt.title(\"Sales and transactions over time\")\n",
    "plt.show()"
   ]
  },
  {
   "cell_type": "markdown",
   "id": "c90f164b",
   "metadata": {},
   "source": [
    "### Проверка гипотезы того, что во время землетрясения объем продаж падает\n",
    "\n",
    "16 числа произошло землетрясение"
   ]
  },
  {
   "cell_type": "code",
   "execution_count": null,
   "id": "a1c83406",
   "metadata": {},
   "outputs": [],
   "source": [
    "plt.figure(figsize=(12, 6))\n",
    "sns.lineplot(x=\"date\", y=\"sales\", data=train_data[(train_data.date > \"2016-04-10\") & (train_data.date < \"2016-05-30\")])\n",
    "sns.lineplot(x=\"date\", y=\"transactions\", data=transcations[(transcations.date > \"2016-04-10\") & (transcations.date < \"2016-05-30\")])\n",
    "plt.title(\"Sales and Transactions over time (Earthquake period)\")\n",
    "plt.show()"
   ]
  },
  {
   "cell_type": "code",
   "execution_count": null,
   "id": "eaf511ff",
   "metadata": {},
   "outputs": [],
   "source": [
    "# Список типов товаров\n",
    "family_list = train_data[\"family\"].unique()\n",
    "family_list"
   ]
  },
  {
   "cell_type": "markdown",
   "id": "0b0e5d95",
   "metadata": {
    "papermill": {
     "duration": 0.009711,
     "end_time": "2023-10-18T07:35:50.888791",
     "exception": false,
     "start_time": "2023-10-18T07:35:50.879080",
     "status": "completed"
    },
    "tags": []
   },
   "source": [
    "### Препроцессинг"
   ]
  },
  {
   "cell_type": "markdown",
   "id": "27aba515",
   "metadata": {
    "papermill": {
     "duration": 0.009399,
     "end_time": "2023-10-18T07:35:50.927254",
     "exception": false,
     "start_time": "2023-10-18T07:35:50.917855",
     "status": "completed"
    },
    "tags": []
   },
   "source": [
    "### Целевые и статик данные\n",
    "\n",
    "Цели - 'sales' (продажи)\\\n",
    "Статик: \\\n",
    "'city'      - город, в котором находится магазин\\\n",
    "'state'     - штат, в котором находится магазин\\\n",
    "'type'      - тип продаваемых товаров\\\n",
    "'cluster'   - группа похожих магазинов\n"
   ]
  },
  {
   "cell_type": "code",
   "execution_count": null,
   "id": "21167fa0",
   "metadata": {
    "execution": {
     "iopub.execute_input": "2023-10-18T07:35:50.948212Z",
     "iopub.status.busy": "2023-10-18T07:35:50.947846Z",
     "iopub.status.idle": "2023-10-18T07:35:52.401843Z",
     "shell.execute_reply": "2023-10-18T07:35:52.400784Z"
    },
    "papermill": {
     "duration": 1.467023,
     "end_time": "2023-10-18T07:35:52.404095",
     "exception": false,
     "start_time": "2023-10-18T07:35:50.937072",
     "status": "completed"
    },
    "tags": []
   },
   "outputs": [],
   "source": [
    "static_merged = pd.merge(train_data, stores, on='store_nbr').set_index('date')\n",
    "static_merged.head()"
   ]
  },
  {
   "cell_type": "markdown",
   "id": "fcf607d2",
   "metadata": {
    "papermill": {
     "duration": 0.009743,
     "end_time": "2023-10-18T07:35:52.424166",
     "exception": false,
     "start_time": "2023-10-18T07:35:52.414423",
     "status": "completed"
    },
    "tags": []
   },
   "source": [
    "### Изменяемые данные\n",
    "Данные, меняющиеся во времени\\\n",
    "День, день недели, месяц и т.д.\n",
    "\n",
    "Цена на бензин, праздники"
   ]
  },
  {
   "cell_type": "code",
   "execution_count": null,
   "id": "69853fd5",
   "metadata": {
    "execution": {
     "iopub.execute_input": "2023-10-18T07:35:52.446479Z",
     "iopub.status.busy": "2023-10-18T07:35:52.445649Z",
     "iopub.status.idle": "2023-10-18T07:35:54.471528Z",
     "shell.execute_reply": "2023-10-18T07:35:54.470259Z"
    },
    "papermill": {
     "duration": 2.039852,
     "end_time": "2023-10-18T07:35:54.474118",
     "exception": false,
     "start_time": "2023-10-18T07:35:52.434266",
     "status": "completed"
    },
    "tags": []
   },
   "outputs": [],
   "source": [
    "future_merged = pd.merge(\n",
    "    pd.concat([train_data, test_data]), oil, on=\"date\", how=\"left\"\n",
    ").set_index([\"date\"])\n",
    "\n",
    "future_merged['day'] = future_merged.index.day\n",
    "future_merged['dayofweek'] = future_merged.index.dayofweek\n",
    "future_merged['dayofyear'] = future_merged.index.dayofyear\n",
    "future_merged['month'] = future_merged.index.month\n",
    "future_merged['year'] = future_merged.index.year\n",
    "\n",
    "# Разбиваем день недели на столбцы, так как он нет линейной зависимости, только катеригоиальная\n",
    "day_of_week_dummies = pd.get_dummies(future_merged[\"dayofweek\"])\n",
    "\n",
    "future_merged = pd.concat([future_merged, day_of_week_dummies], axis=1)\n",
    "future_merged = future_merged.drop([\"dayofweek\"], axis=1)\n",
    "\n",
    "future_merged.head()"
   ]
  },
  {
   "cell_type": "markdown",
   "id": "66bd3193",
   "metadata": {},
   "source": [
    "### Скейлим"
   ]
  },
  {
   "cell_type": "code",
   "execution_count": null,
   "id": "8706d194",
   "metadata": {
    "execution": {
     "iopub.execute_input": "2023-10-18T07:35:54.826675Z",
     "iopub.status.busy": "2023-10-18T07:35:54.826304Z",
     "iopub.status.idle": "2023-10-18T07:35:55.358068Z",
     "shell.execute_reply": "2023-10-18T07:35:55.356925Z"
    },
    "papermill": {
     "duration": 0.545927,
     "end_time": "2023-10-18T07:35:55.360446",
     "exception": false,
     "start_time": "2023-10-18T07:35:54.814519",
     "status": "completed"
    },
    "tags": []
   },
   "outputs": [],
   "source": [
    "from sklearn.preprocessing import MinMaxScaler\n",
    "\n",
    "scaler = MinMaxScaler()\n",
    "\n",
    "scaled_cols = ['dcoilwtico', 'onpromotion','day','dayofyear','month','year']\n",
    "\n",
    "future_merged.columns = future_merged.columns.astype(str)\n",
    "future_merged[scaled_cols] = scaler.fit_transform(future_merged[scaled_cols])\n",
    "\n",
    "future_merged.head()"
   ]
  },
  {
   "cell_type": "markdown",
   "id": "166fe1a8",
   "metadata": {},
   "source": [
    "### Разбиваем праздники на категории"
   ]
  },
  {
   "cell_type": "code",
   "execution_count": null,
   "id": "ed3f89bc",
   "metadata": {
    "execution": {
     "iopub.execute_input": "2023-10-18T07:35:55.383288Z",
     "iopub.status.busy": "2023-10-18T07:35:55.382900Z",
     "iopub.status.idle": "2023-10-18T07:35:57.419075Z",
     "shell.execute_reply": "2023-10-18T07:35:57.418041Z"
    },
    "papermill": {
     "duration": 2.050507,
     "end_time": "2023-10-18T07:35:57.421231",
     "exception": false,
     "start_time": "2023-10-18T07:35:55.370724",
     "status": "completed"
    },
    "tags": []
   },
   "outputs": [],
   "source": [
    "holiday_store_list = []\n",
    "\n",
    "def filter_column(data, column, value):\n",
    "    return np.where(data[column].str.contains(value), 1, 0)\n",
    "\n",
    "for i in range(len(stores)):\n",
    "    df_holiday_dummies = pd.DataFrame(columns=[\"date\"])\n",
    "    df_holiday_dummies[\"date\"] = holiday_events[\"date\"]\n",
    "    df_holiday_dummies[\"store_nbr\"] = i + 1\n",
    "\n",
    "    # Столбцы-классификаторы\n",
    "    df_holiday_dummies[\"national_holiday\"] = np.where(((holiday_events[\"type\"] == \"Holiday\") & (holiday_events[\"locale\"] == \"National\")), 1, 0)    \n",
    "    df_holiday_dummies[\"national_event\"] = np.where(((holiday_events[\"type\"] == \"Event\") & (holiday_events[\"locale\"] == \"National\") & (~holiday_events['description'].str.contains('Terremoto Manabi')) & (~holiday_events['description'].str.contains('futbol'))), 1, 0)    \n",
    "    df_holiday_dummies[\"local_holiday\"] = np.where(((holiday_events[\"type\"] == \"Holiday\") & ((holiday_events[\"locale_name\"] == stores['state'][i]) | (holiday_events[\"locale_name\"] == stores['city'][i]))), 1, 0)\n",
    "\n",
    "    # Землетрясение (продажи должны быть сильно ниже (?))\n",
    "    df_holiday_dummies[\"earthquake\"] = filter_column(holiday_events, \"description\", \"Terremoto Manabi\")\n",
    "\n",
    "    # Праздники с наибольшим влянием\n",
    "    df_holiday_dummies[\"christmas\"] = filter_column(holiday_events, \"description\", \"Navidad\")\n",
    "    df_holiday_dummies[\"football\"] = filter_column(holiday_events, \"description\", \"futbol\")\n",
    "\n",
    "    # Рабочий день в праздник (продажи ниже (?))\n",
    "    df_holiday_dummies[\"work_day\"] = filter_column(holiday_events, \"type\", \"Work Day\")\n",
    "\n",
    "    df_holiday_dummies = df_holiday_dummies[~df_holiday_dummies['date'].duplicated(keep='first')]\n",
    "\n",
    "    holiday_store_list.append(df_holiday_dummies)\n",
    "\n",
    "holiday_store_df = pd.concat(holiday_store_list)\n",
    "\n",
    "future_merged = pd.merge(future_merged, holiday_store_df, on=['date','store_nbr'], how='left')\n",
    "future_merged.head()"
   ]
  },
  {
   "cell_type": "markdown",
   "id": "984cf96f",
   "metadata": {
    "papermill": {
     "duration": 0.010218,
     "end_time": "2023-10-18T07:35:57.442119",
     "exception": false,
     "start_time": "2023-10-18T07:35:57.431901",
     "status": "completed"
    },
    "tags": []
   },
   "source": [
    "### Транзакции"
   ]
  },
  {
   "cell_type": "code",
   "execution_count": null,
   "id": "cba21ca9",
   "metadata": {
    "execution": {
     "iopub.execute_input": "2023-10-18T07:35:57.464735Z",
     "iopub.status.busy": "2023-10-18T07:35:57.464409Z",
     "iopub.status.idle": "2023-10-18T07:35:57.898531Z",
     "shell.execute_reply": "2023-10-18T07:35:57.897482Z"
    },
    "papermill": {
     "duration": 0.448161,
     "end_time": "2023-10-18T07:35:57.900796",
     "exception": false,
     "start_time": "2023-10-18T07:35:57.452635",
     "status": "completed"
    },
    "tags": []
   },
   "outputs": [],
   "source": [
    "past_merged = pd.merge(train_data, transcations, on=['date','store_nbr']).set_index('date')\n",
    "\n",
    "# Скейлим транзации от Min до Max\n",
    "past_merged['transactions'] = scaler.fit_transform(past_merged[['transactions']])\n",
    "\n",
    "past_merged.head()"
   ]
  },
  {
   "cell_type": "markdown",
   "id": "b78ed988",
   "metadata": {
    "papermill": {
     "duration": 0.01045,
     "end_time": "2023-10-18T07:35:57.922100",
     "exception": false,
     "start_time": "2023-10-18T07:35:57.911650",
     "status": "completed"
    },
    "tags": []
   },
   "source": [
    "### Разбиение на обучающую и валидационную выборки"
   ]
  },
  {
   "cell_type": "code",
   "execution_count": null,
   "id": "037a15c8",
   "metadata": {
    "execution": {
     "iopub.execute_input": "2023-10-18T07:35:57.946356Z",
     "iopub.status.busy": "2023-10-18T07:35:57.945581Z",
     "iopub.status.idle": "2023-10-18T07:35:58.286233Z",
     "shell.execute_reply": "2023-10-18T07:35:58.285294Z"
    },
    "papermill": {
     "duration": 0.355803,
     "end_time": "2023-10-18T07:35:58.288625",
     "exception": false,
     "start_time": "2023-10-18T07:35:57.932822",
     "status": "completed"
    },
    "tags": []
   },
   "outputs": [],
   "source": [
    "train_static_cov, val_static_cov = static_merged.loc[static_merged.index <= '2017-07-30'], static_merged.loc[static_merged.index > '2017-07-30']\n",
    "\n",
    "train_past_cov = past_merged.loc[past_merged.index <= '2017-07-30']"
   ]
  },
  {
   "cell_type": "markdown",
   "id": "7e325716",
   "metadata": {
    "papermill": {
     "duration": 0.011036,
     "end_time": "2023-10-18T07:35:58.571440",
     "exception": false,
     "start_time": "2023-10-18T07:35:58.560404",
     "status": "completed"
    },
    "tags": []
   },
   "source": [
    "### Конверт к TimeSeries"
   ]
  },
  {
   "cell_type": "code",
   "execution_count": null,
   "id": "1d4a3ced",
   "metadata": {
    "execution": {
     "iopub.execute_input": "2023-10-18T07:35:58.595471Z",
     "iopub.status.busy": "2023-10-18T07:35:58.595124Z",
     "iopub.status.idle": "2023-10-18T07:36:25.272602Z",
     "shell.execute_reply": "2023-10-18T07:36:25.271227Z"
    },
    "papermill": {
     "duration": 26.69282,
     "end_time": "2023-10-18T07:36:25.275491",
     "exception": false,
     "start_time": "2023-10-18T07:35:58.582671",
     "status": "completed"
    },
    "tags": []
   },
   "outputs": [],
   "source": [
    "from darts import TimeSeries\n",
    "\n",
    "family_ts_dict = {}\n",
    "\n",
    "for family in family_list:\n",
    "    train_family = static_merged.loc[static_merged['family'] == family]\n",
    "    \n",
    "    family_ts_list = TimeSeries.from_group_dataframe(\n",
    "        df=train_family,\n",
    "        group_cols=['store_nbr', 'family'],\n",
    "        value_cols='sales',\n",
    "        static_cols=['city','state','type','cluster'],\n",
    "        fill_missing_dates=True,\n",
    "        freq='D',\n",
    "        fillna_value=0,\n",
    "    )\n",
    "    \n",
    "    family_ts_dict[family] = family_ts_list"
   ]
  },
  {
   "cell_type": "code",
   "execution_count": null,
   "id": "e46b21c3",
   "metadata": {
    "execution": {
     "iopub.execute_input": "2023-10-18T07:36:25.299539Z",
     "iopub.status.busy": "2023-10-18T07:36:25.299150Z",
     "iopub.status.idle": "2023-10-18T07:36:44.897519Z",
     "shell.execute_reply": "2023-10-18T07:36:44.896408Z"
    },
    "papermill": {
     "duration": 19.613102,
     "end_time": "2023-10-18T07:36:44.899913",
     "exception": false,
     "start_time": "2023-10-18T07:36:25.286811",
     "status": "completed"
    },
    "tags": []
   },
   "outputs": [],
   "source": [
    "from darts.dataprocessing.transformers import StaticCovariatesTransformer, Scaler, InvertibleMapper\n",
    "from darts.dataprocessing import Pipeline\n",
    "\n",
    "family_pipeline_dict = {}\n",
    "family_ts_transformed_dict = {}\n",
    "\n",
    "for family in family_ts_dict:\n",
    "    # Создаем pipeline для каждой семьи товаров\n",
    "    static_cov_transformer = StaticCovariatesTransformer()\n",
    "    log_transformer = InvertibleMapper(np.log1p, np.expm1)\n",
    "    scaler = Scaler()\n",
    "    \n",
    "    # Добавляем статические ковариаты\n",
    "    train_pipeline = Pipeline([\n",
    "        static_cov_transformer,\n",
    "        log_transformer,\n",
    "        scaler\n",
    "    ])\n",
    "    \n",
    "    train_transformed = train_pipeline.fit_transform(family_ts_dict[family])\n",
    "    family_pipeline_dict[family] = train_pipeline\n",
    "    family_ts_transformed_dict[family] = train_transformed"
   ]
  },
  {
   "cell_type": "code",
   "execution_count": null,
   "id": "dd5065e6",
   "metadata": {
    "execution": {
     "iopub.execute_input": "2023-10-18T07:36:44.924146Z",
     "iopub.status.busy": "2023-10-18T07:36:44.923763Z",
     "iopub.status.idle": "2023-10-18T07:37:18.296359Z",
     "shell.execute_reply": "2023-10-18T07:37:18.295447Z"
    },
    "papermill": {
     "duration": 33.387661,
     "end_time": "2023-10-18T07:37:18.298816",
     "exception": false,
     "start_time": "2023-10-18T07:36:44.911155",
     "status": "completed"
    },
    "tags": []
   },
   "outputs": [],
   "source": [
    "family_future_cov_dict = {}\n",
    "\n",
    "for family in family_list:\n",
    "    future_cov_family = future_merged.loc[future_merged['family'] == family]\n",
    "    \n",
    "    family_future_cov_list = TimeSeries.from_group_dataframe(\n",
    "        df=future_cov_family,\n",
    "        group_cols=['store_nbr', 'family'],\n",
    "        time_col='date',\n",
    "        value_cols=[\n",
    "            'onpromotion','dcoilwtico', 'day',\n",
    "            'dayofyear','month','year',\n",
    "            '0','1','2','3','4','5','6',\n",
    "            'national_holiday','earthquake','christmas',\n",
    "            'football','national_event','work_day',\n",
    "            'local_holiday'\n",
    "        ],\n",
    "        fill_missing_dates=True,\n",
    "        freq='D',\n",
    "    )\n",
    "\n",
    "    family_future_cov_dict[family] = family_future_cov_list"
   ]
  },
  {
   "cell_type": "code",
   "execution_count": 50,
   "id": "c12edd4e",
   "metadata": {
    "execution": {
     "iopub.execute_input": "2023-10-18T07:37:18.323875Z",
     "iopub.status.busy": "2023-10-18T07:37:18.323485Z",
     "iopub.status.idle": "2023-10-18T07:37:39.824379Z",
     "shell.execute_reply": "2023-10-18T07:37:39.823144Z"
    },
    "papermill": {
     "duration": 21.516058,
     "end_time": "2023-10-18T07:37:39.827131",
     "exception": false,
     "start_time": "2023-10-18T07:37:18.311073",
     "status": "completed"
    },
    "tags": []
   },
   "outputs": [
    {
     "name": "stderr",
     "output_type": "stream",
     "text": [
      "UserWarning: `time_col` was not set and `df` has a monotonically increasing (time) index. This results in time series groups with non-overlapping (time) index. You can ignore this warning if the index represents the actual index of each individual time series group.\n",
      "UserWarning: `time_col` was not set and `df` has a monotonically increasing (time) index. This results in time series groups with non-overlapping (time) index. You can ignore this warning if the index represents the actual index of each individual time series group.\n",
      "UserWarning: `time_col` was not set and `df` has a monotonically increasing (time) index. This results in time series groups with non-overlapping (time) index. You can ignore this warning if the index represents the actual index of each individual time series group.\n",
      "UserWarning: `time_col` was not set and `df` has a monotonically increasing (time) index. This results in time series groups with non-overlapping (time) index. You can ignore this warning if the index represents the actual index of each individual time series group.\n",
      "UserWarning: `time_col` was not set and `df` has a monotonically increasing (time) index. This results in time series groups with non-overlapping (time) index. You can ignore this warning if the index represents the actual index of each individual time series group.\n",
      "UserWarning: `time_col` was not set and `df` has a monotonically increasing (time) index. This results in time series groups with non-overlapping (time) index. You can ignore this warning if the index represents the actual index of each individual time series group.\n",
      "UserWarning: `time_col` was not set and `df` has a monotonically increasing (time) index. This results in time series groups with non-overlapping (time) index. You can ignore this warning if the index represents the actual index of each individual time series group.\n",
      "UserWarning: `time_col` was not set and `df` has a monotonically increasing (time) index. This results in time series groups with non-overlapping (time) index. You can ignore this warning if the index represents the actual index of each individual time series group.\n",
      "UserWarning: `time_col` was not set and `df` has a monotonically increasing (time) index. This results in time series groups with non-overlapping (time) index. You can ignore this warning if the index represents the actual index of each individual time series group.\n",
      "UserWarning: `time_col` was not set and `df` has a monotonically increasing (time) index. This results in time series groups with non-overlapping (time) index. You can ignore this warning if the index represents the actual index of each individual time series group.\n",
      "UserWarning: `time_col` was not set and `df` has a monotonically increasing (time) index. This results in time series groups with non-overlapping (time) index. You can ignore this warning if the index represents the actual index of each individual time series group.\n",
      "UserWarning: `time_col` was not set and `df` has a monotonically increasing (time) index. This results in time series groups with non-overlapping (time) index. You can ignore this warning if the index represents the actual index of each individual time series group.\n",
      "UserWarning: `time_col` was not set and `df` has a monotonically increasing (time) index. This results in time series groups with non-overlapping (time) index. You can ignore this warning if the index represents the actual index of each individual time series group.\n",
      "UserWarning: `time_col` was not set and `df` has a monotonically increasing (time) index. This results in time series groups with non-overlapping (time) index. You can ignore this warning if the index represents the actual index of each individual time series group.\n",
      "UserWarning: `time_col` was not set and `df` has a monotonically increasing (time) index. This results in time series groups with non-overlapping (time) index. You can ignore this warning if the index represents the actual index of each individual time series group.\n",
      "UserWarning: `time_col` was not set and `df` has a monotonically increasing (time) index. This results in time series groups with non-overlapping (time) index. You can ignore this warning if the index represents the actual index of each individual time series group.\n",
      "UserWarning: `time_col` was not set and `df` has a monotonically increasing (time) index. This results in time series groups with non-overlapping (time) index. You can ignore this warning if the index represents the actual index of each individual time series group.\n",
      "UserWarning: `time_col` was not set and `df` has a monotonically increasing (time) index. This results in time series groups with non-overlapping (time) index. You can ignore this warning if the index represents the actual index of each individual time series group.\n",
      "UserWarning: `time_col` was not set and `df` has a monotonically increasing (time) index. This results in time series groups with non-overlapping (time) index. You can ignore this warning if the index represents the actual index of each individual time series group.\n",
      "UserWarning: `time_col` was not set and `df` has a monotonically increasing (time) index. This results in time series groups with non-overlapping (time) index. You can ignore this warning if the index represents the actual index of each individual time series group.\n",
      "UserWarning: `time_col` was not set and `df` has a monotonically increasing (time) index. This results in time series groups with non-overlapping (time) index. You can ignore this warning if the index represents the actual index of each individual time series group.\n",
      "UserWarning: `time_col` was not set and `df` has a monotonically increasing (time) index. This results in time series groups with non-overlapping (time) index. You can ignore this warning if the index represents the actual index of each individual time series group.\n",
      "UserWarning: `time_col` was not set and `df` has a monotonically increasing (time) index. This results in time series groups with non-overlapping (time) index. You can ignore this warning if the index represents the actual index of each individual time series group.\n",
      "UserWarning: `time_col` was not set and `df` has a monotonically increasing (time) index. This results in time series groups with non-overlapping (time) index. You can ignore this warning if the index represents the actual index of each individual time series group.\n",
      "UserWarning: `time_col` was not set and `df` has a monotonically increasing (time) index. This results in time series groups with non-overlapping (time) index. You can ignore this warning if the index represents the actual index of each individual time series group.\n",
      "UserWarning: `time_col` was not set and `df` has a monotonically increasing (time) index. This results in time series groups with non-overlapping (time) index. You can ignore this warning if the index represents the actual index of each individual time series group.\n",
      "UserWarning: `time_col` was not set and `df` has a monotonically increasing (time) index. This results in time series groups with non-overlapping (time) index. You can ignore this warning if the index represents the actual index of each individual time series group.\n",
      "UserWarning: `time_col` was not set and `df` has a monotonically increasing (time) index. This results in time series groups with non-overlapping (time) index. You can ignore this warning if the index represents the actual index of each individual time series group.\n",
      "UserWarning: `time_col` was not set and `df` has a monotonically increasing (time) index. This results in time series groups with non-overlapping (time) index. You can ignore this warning if the index represents the actual index of each individual time series group.\n",
      "UserWarning: `time_col` was not set and `df` has a monotonically increasing (time) index. This results in time series groups with non-overlapping (time) index. You can ignore this warning if the index represents the actual index of each individual time series group.\n",
      "UserWarning: `time_col` was not set and `df` has a monotonically increasing (time) index. This results in time series groups with non-overlapping (time) index. You can ignore this warning if the index represents the actual index of each individual time series group.\n",
      "UserWarning: `time_col` was not set and `df` has a monotonically increasing (time) index. This results in time series groups with non-overlapping (time) index. You can ignore this warning if the index represents the actual index of each individual time series group.\n",
      "UserWarning: `time_col` was not set and `df` has a monotonically increasing (time) index. This results in time series groups with non-overlapping (time) index. You can ignore this warning if the index represents the actual index of each individual time series group.\n"
     ]
    }
   ],
   "source": [
    "family_past_cov_dict = {}\n",
    "\n",
    "for family in family_list:\n",
    "    past_cov_family = past_merged.loc[past_merged['family'] == family]\n",
    "\n",
    "    family_past_cov_list = TimeSeries.from_group_dataframe(\n",
    "        df=past_cov_family,\n",
    "        group_cols=[\"store_nbr\", \"family\"],\n",
    "        value_cols=[\"transactions\"],\n",
    "        fill_missing_dates=True,\n",
    "        freq=\"D\",\n",
    "    )\n",
    "\n",
    "    family_past_cov_dict[family] = family_past_cov_list"
   ]
  },
  {
   "cell_type": "markdown",
   "id": "b9ac5081",
   "metadata": {
    "papermill": {
     "duration": 0.010651,
     "end_time": "2023-10-18T07:37:39.871339",
     "exception": false,
     "start_time": "2023-10-18T07:37:39.860688",
     "status": "completed"
    },
    "tags": []
   },
   "source": [
    "### LGBM Model"
   ]
  },
  {
   "cell_type": "code",
   "execution_count": 54,
   "id": "ddb1430d",
   "metadata": {
    "execution": {
     "iopub.execute_input": "2023-10-18T07:37:39.896119Z",
     "iopub.status.busy": "2023-10-18T07:37:39.894979Z",
     "iopub.status.idle": "2023-10-18T07:38:02.687448Z",
     "shell.execute_reply": "2023-10-18T07:38:02.686377Z"
    },
    "papermill": {
     "duration": 22.807187,
     "end_time": "2023-10-18T07:38:02.689918",
     "exception": false,
     "start_time": "2023-10-18T07:37:39.882731",
     "status": "completed"
    },
    "tags": []
   },
   "outputs": [],
   "source": [
    "from darts.models import LightGBMModel\n",
    "from tqdm import tqdm\n",
    "\n",
    "def train_model(days=7):\n",
    "    lgbm_model_dict = {}\n",
    "\n",
    "    for family in tqdm(family_list):\n",
    "        lgbm_model = LightGBMModel(\n",
    "            lags=days, \n",
    "            lags_past_covariates=[-16,-17,-18,-19,-20,-21,-22],\n",
    "            lags_future_covariates=(14,1),\n",
    "            random_state=RANDOM_STATE\n",
    "        )\n",
    "\n",
    "        lgbm_model.fit(\n",
    "            series = family_ts_transformed_dict[family], \n",
    "            past_covariates=family_past_cov_dict[family], \n",
    "            future_covariates=family_future_cov_dict[family]\n",
    "        )\n",
    "\n",
    "        lgbm_model_dict[family] = lgbm_model\n",
    "        \n",
    "    return lgbm_model_dict"
   ]
  },
  {
   "cell_type": "code",
   "execution_count": 55,
   "id": "ccebb350",
   "metadata": {
    "execution": {
     "iopub.execute_input": "2023-10-18T07:38:02.715169Z",
     "iopub.status.busy": "2023-10-18T07:38:02.714769Z",
     "iopub.status.idle": "2023-10-18T07:38:02.721818Z",
     "shell.execute_reply": "2023-10-18T07:38:02.720749Z"
    },
    "papermill": {
     "duration": 0.021845,
     "end_time": "2023-10-18T07:38:02.723741",
     "exception": false,
     "start_time": "2023-10-18T07:38:02.701896",
     "status": "completed"
    },
    "tags": []
   },
   "outputs": [],
   "source": [
    "def predict_model(lgbm_model_dict):    \n",
    "    pred_dict = {}\n",
    "\n",
    "    for family in tqdm(family_list):\n",
    "        pred = lgbm_model_dict[family].predict(\n",
    "            n=16, \n",
    "            series=family_ts_transformed_dict[family], \n",
    "            past_covariates=family_past_cov_dict[family], \n",
    "            future_covariates=family_future_cov_dict[family]\n",
    "        )\n",
    "\n",
    "        pred_dict[family] = family_pipeline_dict[family].inverse_transform(pred)\n",
    "        \n",
    "    pred_df_list = []\n",
    "    for family in family_list:\n",
    "        for i, pred in enumerate(pred_dict[family]):\n",
    "            pred_df = pred.pd_dataframe()\n",
    "            pred_df['family'] = family\n",
    "            pred_df['store_nbr'] = i+1\n",
    "\n",
    "            pred_df_list.append(pred_df)\n",
    "\n",
    "    final_preds = pd.concat(pred_df_list)\n",
    "    \n",
    "    final_preds.loc[final_preds['sales'] < 0, 'sales'] = 0\n",
    "    \n",
    "    return final_preds"
   ]
  },
  {
   "cell_type": "code",
   "execution_count": 56,
   "id": "0cf69e96",
   "metadata": {
    "execution": {
     "iopub.execute_input": "2023-10-18T07:38:02.769794Z",
     "iopub.status.busy": "2023-10-18T07:38:02.769434Z",
     "iopub.status.idle": "2023-10-18T07:38:02.774432Z",
     "shell.execute_reply": "2023-10-18T07:38:02.773414Z"
    },
    "papermill": {
     "duration": 0.041543,
     "end_time": "2023-10-18T07:38:02.776362",
     "exception": false,
     "start_time": "2023-10-18T07:38:02.734819",
     "status": "completed"
    },
    "tags": []
   },
   "outputs": [],
   "source": [
    "def train_predict_model(days=7):\n",
    "    return predict_model(train_model(days=days))"
   ]
  },
  {
   "cell_type": "code",
   "execution_count": null,
   "id": "880d8081",
   "metadata": {
    "execution": {
     "iopub.execute_input": "2023-10-18T07:38:02.800714Z",
     "iopub.status.busy": "2023-10-18T07:38:02.799903Z",
     "iopub.status.idle": "2023-10-18T07:55:31.913622Z",
     "shell.execute_reply": "2023-10-18T07:55:31.912706Z"
    },
    "papermill": {
     "duration": 1049.128445,
     "end_time": "2023-10-18T07:55:31.916009",
     "exception": false,
     "start_time": "2023-10-18T07:38:02.787564",
     "status": "completed"
    },
    "tags": []
   },
   "outputs": [],
   "source": [
    "pred_month = train_predict_model(days=31)\n",
    "pred_three_month = train_predict_model(days=93)\n",
    "pred_half_year = train_predict_model(days=365//2)\n",
    "pred_3_4_year = train_predict_model(days=365*3//4)\n",
    "pred_year = train_predict_model(days=365)"
   ]
  },
  {
   "cell_type": "markdown",
   "id": "d4a70d16",
   "metadata": {
    "papermill": {
     "duration": 0.021206,
     "end_time": "2023-10-18T07:55:32.095780",
     "exception": false,
     "start_time": "2023-10-18T07:55:32.074574",
     "status": "completed"
    },
    "tags": []
   },
   "source": [
    "## Собираем модели"
   ]
  },
  {
   "cell_type": "code",
   "execution_count": null,
   "id": "86be2319",
   "metadata": {
    "execution": {
     "iopub.execute_input": "2023-10-18T07:55:32.150808Z",
     "iopub.status.busy": "2023-10-18T07:55:32.150335Z",
     "iopub.status.idle": "2023-10-18T07:55:32.159945Z",
     "shell.execute_reply": "2023-10-18T07:55:32.158698Z"
    },
    "papermill": {
     "duration": 0.040383,
     "end_time": "2023-10-18T07:55:32.162038",
     "exception": false,
     "start_time": "2023-10-18T07:55:32.121655",
     "status": "completed"
    },
    "tags": []
   },
   "outputs": [],
   "source": [
    "predictions = pred_month.copy()\n",
    "predictions[\"sales\"] = (\n",
    "    pred_month[\"sales\"]\n",
    "    + pred_three_month[\"sales\"]\n",
    "    + pred_half_year[\"sales\"]\n",
    "    + pred_3_4_year[\"sales\"]\n",
    "    + pred_year[\"sales\"]\n",
    ") / 5"
   ]
  },
  {
   "cell_type": "code",
   "execution_count": null,
   "id": "42c59947",
   "metadata": {},
   "outputs": [],
   "source": [
    "from sklearn.metrics import mean_squared_log_error\n",
    "\n",
    "actual = val_static_cov.sort_values(['store_nbr', 'family', 'date'])['sales']\n",
    "preds = predictions.sort_values(['store_nbr', 'family', 'date'])['sales']\n",
    "\n",
    "score = np.sqrt(mean_squared_log_error(actual, preds))\n",
    "print('Combined RMSLE : ', score)\n",
    "\n",
    "actual_submission = pd.read_csv(f\"{input_path}/100_score.csv\")\n",
    "score = np.sqrt(mean_squared_log_error(actual_submission['sales'], preds))\n",
    "print('Submission RMSLE : ', score)"
   ]
  },
  {
   "cell_type": "code",
   "execution_count": null,
   "id": "d7328a56",
   "metadata": {
    "execution": {
     "iopub.execute_input": "2023-10-18T07:55:32.210492Z",
     "iopub.status.busy": "2023-10-18T07:55:32.209202Z",
     "iopub.status.idle": "2023-10-18T07:55:32.314657Z",
     "shell.execute_reply": "2023-10-18T07:55:32.313380Z"
    },
    "papermill": {
     "duration": 0.134188,
     "end_time": "2023-10-18T07:55:32.319483",
     "exception": false,
     "start_time": "2023-10-18T07:55:32.185295",
     "status": "completed"
    },
    "tags": []
   },
   "outputs": [],
   "source": [
    "submit = pd.merge(test_data, predictions, on=['store_nbr', 'family','date'])\n",
    "submit = submit.reindex(columns=['id','sales'])\n",
    "submit.to_csv('submission.csv', index=False)"
   ]
  }
 ],
 "metadata": {
  "kernelspec": {
   "display_name": "Python 3",
   "language": "python",
   "name": "python3"
  },
  "language_info": {
   "codemirror_mode": {
    "name": "ipython",
    "version": 3
   },
   "file_extension": ".py",
   "mimetype": "text/x-python",
   "name": "python",
   "nbconvert_exporter": "python",
   "pygments_lexer": "ipython3",
   "version": "3.11.5"
  },
  "papermill": {
   "default_parameters": {},
   "duration": 1215.938111,
   "end_time": "2023-10-18T07:55:36.187836",
   "environment_variables": {},
   "exception": null,
   "input_path": "__notebook__.ipynb",
   "output_path": "__notebook__.ipynb",
   "parameters": {},
   "start_time": "2023-10-18T07:35:20.249725",
   "version": "2.4.0"
  }
 },
 "nbformat": 4,
 "nbformat_minor": 5
}
