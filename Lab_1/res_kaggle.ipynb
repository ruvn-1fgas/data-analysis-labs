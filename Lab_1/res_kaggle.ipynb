{
 "cells": [
  {
   "cell_type": "markdown",
   "metadata": {},
   "source": [
    "## Data Science London + Scikit-learn"
   ]
  },
  {
   "cell_type": "markdown",
   "metadata": {},
   "source": [
    "### Some preprocessing and useful functions"
   ]
  },
  {
   "cell_type": "code",
   "execution_count": 1,
   "metadata": {},
   "outputs": [],
   "source": [
    "from sklearn.metrics import accuracy_score\n",
    "from sklearn.model_selection import cross_val_score, train_test_split\n",
    "from sklearn.svm import SVC\n",
    "import pandas as pd\n",
    "\n",
    "input_path = \"../input/data-science-london-scikit-learn/\"\n",
    "output_path = \"../working/\"\n",
    "\n",
    "train_data = pd.read_csv(f\"{input_path}train.csv\", header=None)\n",
    "train_labels = pd.read_csv(f\"{input_path}/trainLabels.csv\", header=None)\n",
    "test_data = pd.read_csv(f\"{input_path}/test.csv\", header=None)\n",
    "\n",
    "def get_svc_fitted_model(x_train, y_train):\n",
    "    svc_model = SVC(gamma='auto', kernel='rbf', C=1.0)\n",
    "    svc_model.fit(x_train, y_train)\n",
    "    return svc_model\n",
    "\n",
    "def get_train_test_data(train_data):\n",
    "    # don't blame me for using global variable pls\n",
    "    global train_labels\n",
    "    # as Rostovces said, test set is 15-30% of the whole dataset\n",
    "    return train_test_split(train_data, train_labels, test_size=0.3, random_state=1337)"
   ]
  },
  {
   "cell_type": "markdown",
   "metadata": {},
   "source": [
    "### Naive approach"
   ]
  },
  {
   "cell_type": "code",
   "execution_count": 2,
   "metadata": {},
   "outputs": [
    {
     "name": "stdout",
     "output_type": "stream",
     "text": [
      "SVC cross_val_score: 0.915\n",
      "SVC accuracy_score: 0.8866666666666667\n"
     ]
    }
   ],
   "source": [
    "x_train, x_test, y_train, y_test = get_train_test_data(train_data)\n",
    "\n",
    "svc_model = get_svc_fitted_model(x_train, y_train.values.ravel())\n",
    "\n",
    "print(\n",
    "    f\"SVC cross_val_score: {cross_val_score(svc_model, train_data, train_labels.values.ravel(), cv=10).mean()}\"\n",
    ")\n",
    "print(f\"SVC accuracy_score: {accuracy_score(y_test, svc_model.predict(x_test))}\")"
   ]
  },
  {
   "cell_type": "markdown",
   "metadata": {},
   "source": [
    "## Approach with data normalizing\n",
    "\n",
    "(somehow it's worse than naive approach)"
   ]
  },
  {
   "cell_type": "code",
   "execution_count": 3,
   "metadata": {},
   "outputs": [
    {
     "name": "stdout",
     "output_type": "stream",
     "text": [
      "SVC cross_val_score (NORM): 0.808\n",
      "SVC accuracy_score (NORM): 0.7766666666666666\n"
     ]
    }
   ],
   "source": [
    "from sklearn.preprocessing import Normalizer\n",
    "\n",
    "normalized_train_data = Normalizer().fit_transform(train_data)\n",
    "\n",
    "x_train, x_test, y_train, y_test = get_train_test_data(normalized_train_data)\n",
    "\n",
    "svc_model = get_svc_fitted_model(x_train, y_train.values.ravel())\n",
    "\n",
    "print(\n",
    "    f\"SVC cross_val_score (NORM): {cross_val_score(svc_model, normalized_train_data, train_labels.values.ravel(), cv=10).mean()}\"\n",
    ")\n",
    "print(f\"SVC accuracy_score (NORM): {accuracy_score(y_test, svc_model.predict(x_test))}\")"
   ]
  },
  {
   "cell_type": "markdown",
   "metadata": {},
   "source": [
    "## PCA Approach\n",
    "\n",
    "(small improvement)"
   ]
  },
  {
   "cell_type": "code",
   "execution_count": 5,
   "metadata": {},
   "outputs": [
    {
     "name": "stdout",
     "output_type": "stream",
     "text": [
      "SVC cross_val_score (PCA): 0.907\n",
      "SVC accuracy_score (PCA): 0.92\n"
     ]
    }
   ],
   "source": [
    "from sklearn.decomposition import PCA\n",
    "\n",
    "pca = PCA(n_components=12)\n",
    "pca_train_data = pca.fit_transform(train_data)\n",
    "\n",
    "x_train, x_test, y_train, y_test = get_train_test_data(pca_train_data)\n",
    "\n",
    "svc_model = get_svc_fitted_model(x_train, y_train.values.ravel())\n",
    "\n",
    "print(\n",
    "    f\"SVC cross_val_score (PCA): {cross_val_score(svc_model, pca_train_data, train_labels.values.ravel(), cv=10).mean()}\"\n",
    ")\n",
    "\n",
    "print(f\"SVC accuracy_score (PCA): {accuracy_score(y_test, svc_model.predict(x_test))}\")"
   ]
  },
  {
   "cell_type": "markdown",
   "metadata": {},
   "source": [
    "### Trying to find best parameters for model with best PCA result"
   ]
  },
  {
   "cell_type": "code",
   "execution_count": 6,
   "metadata": {},
   "outputs": [
    {
     "name": "stdout",
     "output_type": "stream",
     "text": [
      "Fitting 10 folds for each of 80 candidates, totalling 800 fits\n",
      "Best params: {'C': 0.01, 'gamma': 1, 'kernel': 'rbf'}\n",
      "Best estimator: SVC(C=0.01, gamma=1)\n",
      "Best score: 0.9960000000000001\n",
      "SVC cross_val_score (GMM): 0.9960000000000001\n"
     ]
    }
   ],
   "source": [
    "from sklearn.model_selection import GridSearchCV\n",
    "from sklearn.mixture import GaussianMixture\n",
    "import numpy as np\n",
    "\n",
    "x_all = np.r_[train_data, test_data]\n",
    "\n",
    "lowest_bic = np.infty\n",
    "bic = []\n",
    "n_components_range = range(1, 7)\n",
    "cv_types = ['spherical', 'tied', 'diag', 'full']\n",
    "for cv_type in cv_types:\n",
    "    for n_components in n_components_range:\n",
    "        gmm = GaussianMixture(n_components=n_components, covariance_type=cv_type)\n",
    "        gmm.fit(x_all)\n",
    "        bic.append(gmm.bic(x_all))\n",
    "        if bic[-1] < lowest_bic:\n",
    "            lowest_bic = bic[-1]\n",
    "            best_gmm = gmm\n",
    "\n",
    "best_gmm.fit(x_all)\n",
    "gmm_train = best_gmm.predict_proba(train_data)\n",
    "gmm_test = best_gmm.predict_proba(test_data)\n",
    "\n",
    "\n",
    "param_grid = {\n",
    "    'C': [0.01, 1, 10, 100],\n",
    "    'gamma': [1, 0.1, 0.01, 0.001, 0.0001],\n",
    "    'kernel': ['rbf', 'poly', 'sigmoid', 'linear'],\n",
    "}\n",
    "\n",
    "grid = GridSearchCV(SVC(), param_grid, refit=True, cv=10, verbose=1, n_jobs=-1, scoring='accuracy')\n",
    "grid.fit(gmm_train, train_labels.values.ravel())\n",
    "\n",
    "print(f\"Best params: {grid.best_params_}\")\n",
    "print(f\"Best estimator: {grid.best_estimator_}\")\n",
    "print(f\"Best score: {grid.best_score_}\")\n",
    "\n",
    "svc_best = grid.best_estimator_\n",
    "\n",
    "print(f\"SVC cross_val_score (GMM): {cross_val_score(svc_best, gmm_train, train_labels.values.ravel(), cv=10).mean()}\")"
   ]
  },
  {
   "cell_type": "markdown",
   "metadata": {},
   "source": [
    "### Use best params to fit model"
   ]
  },
  {
   "cell_type": "code",
   "execution_count": 15,
   "metadata": {},
   "outputs": [],
   "source": [
    "model = svc_best\n",
    "\n",
    "predictions = model.predict(gmm_test)\n",
    "\n",
    "submission = pd.DataFrame({'Id': range(1, len(predictions) + 1), 'Solution': predictions})\n",
    "submission.to_csv(f\"submission_lab_1.csv\", index=False)"
   ]
  }
 ],
 "metadata": {
  "kernelspec": {
   "display_name": "Python 3",
   "language": "python",
   "name": "python3"
  },
  "language_info": {
   "codemirror_mode": {
    "name": "ipython",
    "version": 3
   },
   "file_extension": ".py",
   "mimetype": "text/x-python",
   "name": "python",
   "nbconvert_exporter": "python",
   "pygments_lexer": "ipython3",
   "version": "3.11.5"
  }
 },
 "nbformat": 4,
 "nbformat_minor": 2
}
