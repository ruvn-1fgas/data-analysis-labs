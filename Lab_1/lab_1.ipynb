{
 "cells": [
  {
   "cell_type": "markdown",
   "metadata": {},
   "source": [
    "# Лабораторная работа №1 - Data Science London + Scikit-learn"
   ]
  },
  {
   "cell_type": "code",
   "execution_count": 4,
   "metadata": {},
   "outputs": [
    {
     "name": "stderr",
     "output_type": "stream",
     "text": [
      "Intel(R) Extension for Scikit-learn* enabled (https://github.com/intel/scikit-learn-intelex)\n"
     ]
    }
   ],
   "source": [
    "from sklearnex import patch_sklearn\n",
    "import warnings\n",
    "warnings.filterwarnings(\"ignore\")\n",
    "\n",
    "patch_sklearn()"
   ]
  },
  {
   "cell_type": "markdown",
   "metadata": {},
   "source": [
    "### Препроцессинг, подбор гиперпараметров"
   ]
  },
  {
   "cell_type": "code",
   "execution_count": 5,
   "metadata": {},
   "outputs": [],
   "source": [
    "import pandas as pd\n",
    "import numpy as np\n",
    "from sklearn.model_selection import GridSearchCV\n",
    "from sklearn.mixture import GaussianMixture\n",
    "input_path = \"../input/data-science-london-scikit-learn\"\n",
    "RANDOM_STATE = 1337\n",
    "\n",
    "def grid_search(model, params, X, y):\n",
    "    grid_search = GridSearchCV(\n",
    "        model,\n",
    "        params,\n",
    "        refit=True,\n",
    "        cv=10,\n",
    "        verbose=1,\n",
    "        n_jobs=-1,\n",
    "        scoring=\"accuracy\",\n",
    "        return_train_score=True,\n",
    "    )\n",
    "    grid_search.fit(X, y)\n",
    "\n",
    "    print(f\"\\n\\033[92mModel:\\033[0m {model.__class__.__name__}\")\n",
    "    print(f\"\\033[92mBest params:\\033[0m {grid_search.best_params_}\")\n",
    "    print(f\"\\033[92mTrain score:\\033[0m {grid_search.cv_results_['mean_train_score'][grid_search.best_index_] * 100:.2f}\")\n",
    "    print(f\"\\033[92mBest score:\\033[0m {grid_search.best_score_ * 100:.2f}\\n\")\n",
    "\n",
    "    return grid_search.best_estimator_, grid_search.best_score_\n",
    "\n",
    "def get_preprocessed_data():\n",
    "    train_data = pd.read_csv(f\"{input_path}/train.csv\", header=None)\n",
    "    test_data = pd.read_csv(f\"{input_path}/test.csv\", header=None)\n",
    "\n",
    "    x_all = np.r_[train_data, test_data]\n",
    "\n",
    "    gmm = GaussianMixture(n_components=3, covariance_type=\"full\", random_state=RANDOM_STATE)\n",
    "    gmm.fit(x_all)\n",
    "    gmm_train = gmm.predict_proba(train_data)\n",
    "    gmm_test = gmm.predict_proba(test_data)\n",
    "\n",
    "    return gmm_train, gmm_test"
   ]
  },
  {
   "cell_type": "markdown",
   "metadata": {},
   "source": [
    "### Загрузка данных"
   ]
  },
  {
   "cell_type": "code",
   "execution_count": 6,
   "metadata": {},
   "outputs": [],
   "source": [
    "train_data, test_data = get_preprocessed_data()\n",
    "train_labels = pd.read_csv(f\"{input_path}/trainLabels.csv\", header=None)"
   ]
  },
  {
   "cell_type": "markdown",
   "metadata": {},
   "source": [
    "### Создание сабмита"
   ]
  },
  {
   "cell_type": "code",
   "execution_count": 7,
   "metadata": {},
   "outputs": [],
   "source": [
    "def create_submission(model, name):\n",
    "    predictions = model.predict(test_data)\n",
    "\n",
    "    submission = pd.DataFrame(\n",
    "        {\"Id\": range(1, len(predictions) + 1), \"Solution\": predictions}\n",
    "    )\n",
    "    submission.to_csv(f\"{name}.csv\", index=False)"
   ]
  },
  {
   "cell_type": "markdown",
   "metadata": {},
   "source": [
    "### KNeighborsClassifier"
   ]
  },
  {
   "cell_type": "code",
   "execution_count": 8,
   "metadata": {},
   "outputs": [],
   "source": [
    "from sklearn.neighbors import KNeighborsClassifier as KNC\n",
    "\n",
    "def model_knn():\n",
    "    param_grid = {\n",
    "        \"n_neighbors\": [1, 3, 5, 7, 9, 11, 13, 15, 17, 19, 21],\n",
    "        \"weights\": [\"uniform\", \"distance\"],\n",
    "        \"algorithm\": [\"auto\", \"ball_tree\", \"kd_tree\", \"brute\"],\n",
    "    }\n",
    "    return grid_search(\n",
    "        KNC(),\n",
    "        param_grid,\n",
    "        train_data,\n",
    "        train_labels,\n",
    "    )"
   ]
  },
  {
   "cell_type": "markdown",
   "metadata": {},
   "source": [
    "### RandomForestClassifier"
   ]
  },
  {
   "cell_type": "code",
   "execution_count": 9,
   "metadata": {},
   "outputs": [],
   "source": [
    "from sklearn.ensemble import RandomForestClassifier as RFC\n",
    "\n",
    "def model_rfc():\n",
    "    param_grid = {\n",
    "        \"n_estimators\": [100, 200, 300, 400, 500, 1000],\n",
    "        \"max_depth\": [9, 18, 27],\n",
    "        \"max_features\": [6, 7, 8, 9],\n",
    "    }\n",
    "    return grid_search(\n",
    "        RFC(random_state=RANDOM_STATE, max_depth=18, max_features=9, n_estimators=200),\n",
    "        param_grid,\n",
    "        train_data,\n",
    "        train_labels,\n",
    "    )"
   ]
  },
  {
   "cell_type": "markdown",
   "metadata": {},
   "source": [
    "### GaussianProcessClassifier"
   ]
  },
  {
   "cell_type": "code",
   "execution_count": 10,
   "metadata": {},
   "outputs": [],
   "source": [
    "from sklearn.gaussian_process import GaussianProcessClassifier as GPC\n",
    "\n",
    "def model_gpc():\n",
    "    param_grid = {\n",
    "        \"max_iter_predict\": [100, 200, 300, 400, 500, 1000],\n",
    "    }\n",
    "    return grid_search(\n",
    "        GPC(random_state=RANDOM_STATE),\n",
    "        param_grid,\n",
    "        train_data,\n",
    "        train_labels,\n",
    "    )"
   ]
  },
  {
   "cell_type": "markdown",
   "metadata": {},
   "source": [
    "### Подбор гиперпараметров и создание сабмишеннов"
   ]
  },
  {
   "cell_type": "code",
   "execution_count": 11,
   "metadata": {},
   "outputs": [
    {
     "name": "stdout",
     "output_type": "stream",
     "text": [
      "Fitting 10 folds for each of 88 candidates, totalling 880 fits\n",
      "\n",
      "\u001b[92mModel:\u001b[0m KNeighborsClassifier\n",
      "\u001b[92mBest params:\u001b[0m {'algorithm': 'auto', 'n_neighbors': 5, 'weights': 'uniform'}\n",
      "\u001b[92mTrain score:\u001b[0m 99.30\n",
      "\u001b[92mBest score:\u001b[0m 99.30\n",
      "\n",
      "Fitting 10 folds for each of 72 candidates, totalling 720 fits\n",
      "\n",
      "\u001b[92mModel:\u001b[0m RandomForestClassifier\n",
      "\u001b[92mBest params:\u001b[0m {'max_depth': 9, 'max_features': 6, 'n_estimators': 100}\n",
      "\u001b[92mTrain score:\u001b[0m 99.86\n",
      "\u001b[92mBest score:\u001b[0m 99.10\n",
      "\n",
      "Fitting 10 folds for each of 6 candidates, totalling 60 fits\n",
      "\n",
      "\u001b[92mModel:\u001b[0m GaussianProcessClassifier\n",
      "\u001b[92mBest params:\u001b[0m {'max_iter_predict': 100}\n",
      "\u001b[92mTrain score:\u001b[0m 99.30\n",
      "\u001b[92mBest score:\u001b[0m 99.30\n",
      "\n"
     ]
    }
   ],
   "source": [
    "submissions_folder = \"submissions\"\n",
    "\n",
    "items = list(globals().items())\n",
    "\n",
    "for name, func in items:\n",
    "    if callable(func) and name.startswith(\"model_\"):\n",
    "        model, score = func()\n",
    "        create_submission(\n",
    "            model, f\"{submissions_folder}/{score:.4f}_{model.__class__.__name__}\"\n",
    "        )"
   ]
  },
  {
   "cell_type": "markdown",
   "metadata": {},
   "source": [
    "### Сравниваем с ~100% результатом"
   ]
  },
  {
   "cell_type": "code",
   "execution_count": 12,
   "metadata": {},
   "outputs": [
    {
     "name": "stdout",
     "output_type": "stream",
     "text": [
      "RandomForestClassifier: 0.9877\n",
      "GaussianProcessClassifier: 0.9883\n",
      "KNeighborsClassifier: 0.9880\n"
     ]
    }
   ],
   "source": [
    "import os\n",
    "\n",
    "submission_100 = pd.read_csv(f\"{input_path}/100_score.csv\")\n",
    "\n",
    "for submission_fn in os.listdir(submissions_folder):\n",
    "    if submission_fn.endswith(\".csv\"):\n",
    "        submission = pd.read_csv(f\"{submissions_folder}/{submission_fn}\")\n",
    "\n",
    "        accuracy = (submission[\"Solution\"] == submission_100[\"Solution\"]).mean()\n",
    "        model_name = submission_fn.split('_')[-1].split('.')[0]\n",
    "\n",
    "        print(f\"{model_name}: {accuracy:.4f}\")\n",
    "        \n",
    "        submission.to_csv(f\"best/{accuracy:.4f}_{model_name}.csv\", index=False)"
   ]
  }
 ],
 "metadata": {
  "kernelspec": {
   "display_name": "Python 3",
   "language": "python",
   "name": "python3"
  },
  "language_info": {
   "codemirror_mode": {
    "name": "ipython",
    "version": 3
   },
   "file_extension": ".py",
   "mimetype": "text/x-python",
   "name": "python",
   "nbconvert_exporter": "python",
   "pygments_lexer": "ipython3",
   "version": "3.11.5"
  }
 },
 "nbformat": 4,
 "nbformat_minor": 2
}
